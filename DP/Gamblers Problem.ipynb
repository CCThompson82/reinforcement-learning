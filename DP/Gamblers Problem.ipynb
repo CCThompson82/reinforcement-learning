{
 "cells": [
  {
   "cell_type": "markdown",
   "metadata": {
    "collapsed": true
   },
   "source": [
    "### This is Example 4.3. Gambler’s Problem from Sutton's book.\n",
    "\n",
    "A gambler has the opportunity to make bets on the outcomes of a sequence of coin flips. \n",
    "If the coin comes up heads, he wins as many dollars as he has staked on that flip; \n",
    "if it is tails, he loses his stake. The game ends when the gambler wins by reaching his goal of $100, \n",
    "or loses by running out of money. \n",
    "\n",
    "On each flip, the gambler must decide what portion of his capital to stake, in integer numbers of dollars. \n",
    "This problem can be formulated as an undiscounted, episodic, finite MDP. \n",
    "\n",
    "The state is the gambler’s capital, s ∈ {1, 2, . . . , 99}.\n",
    "The actions are stakes, a ∈ {0, 1, . . . , min(s, 100 − s)}. \n",
    "The reward is zero on all transitions except those on which the gambler reaches his goal, when it is +1.\n",
    "\n",
    "The state-value function then gives the probability of winning from each state. A policy is a mapping from levels of capital to stakes. The optimal policy maximizes the probability of reaching the goal. Let p_h denote the probability of the coin coming up heads. If p_h is known, then the entire problem is known and it can be solved, for instance, by value iteration.\n"
   ]
  },
  {
   "cell_type": "code",
   "execution_count": 2,
   "metadata": {},
   "outputs": [
    {
     "name": "stdout",
     "output_type": "stream",
     "text": [
      "The autoreload extension is already loaded. To reload it, use:\n",
      "  %reload_ext autoreload\n"
     ]
    }
   ],
   "source": [
    "import numpy as np\n",
    "import sys\n",
    "ROOT_DIR = '/workdir'\n",
    "sys.path.append(ROOT_DIR)\n",
    "from lib.envs.gridworld import GridworldEnv\n",
    "from DP import dp\n",
    "%load_ext autoreload\n",
    "%autoreload 2"
   ]
  },
  {
   "cell_type": "code",
   "execution_count": 21,
   "metadata": {},
   "outputs": [
    {
     "data": {
      "text/plain": [
       "array([0., 0., 0., 0., 0., 0., 0., 0., 0., 0., 0., 0., 0., 0., 0., 0., 0.,\n",
       "       0., 0., 0., 0., 0., 0., 0., 0., 0., 0., 0., 0., 0., 0., 0., 0., 0.,\n",
       "       0., 0., 0., 0., 0., 0., 0., 0., 0., 0., 0., 0., 0., 0., 0., 0., 0.,\n",
       "       0., 0., 0., 0., 0., 0., 0., 0., 0., 0., 0., 0., 0., 0., 0., 0., 0.,\n",
       "       0., 0., 0., 0., 0., 0., 0., 0., 0., 0., 0., 0., 0., 0., 0., 0., 0.,\n",
       "       0., 0., 0., 0., 0., 0., 0., 0., 0., 0., 0., 0., 0., 0., 0.])"
      ]
     },
     "execution_count": 21,
     "metadata": {},
     "output_type": "execute_result"
    }
   ],
   "source": [
    "np.zeros(100)"
   ]
  },
  {
   "cell_type": "code",
   "execution_count": 29,
   "metadata": {},
   "outputs": [
    {
     "data": {
      "text/plain": [
       "(array([ 0.,  0.,  2.,  0.,  0.,  5.,  0.,  7.,  8.,  0., 10., 11.,  0.,\n",
       "        12.,  0.,  0.,  9.,  0.,  0.,  6.,  0.,  4.,  3.,  0.,  1.,  0.,\n",
       "         0.,  2.,  0.,  0.,  5.,  0.,  7.,  8.,  0., 10., 11.,  0., 12.,\n",
       "         0.,  0.,  9.,  0.,  0.,  6.,  0.,  4.,  3.,  0.,  1.,  0.,  0.,\n",
       "         2.,  0.,  0.,  5.,  0.,  7.,  8.,  0., 10., 11.,  0., 12.,  0.,\n",
       "         0.,  9.,  0.,  0.,  6.,  0.,  4.,  3.,  0.,  1.,  0.,  0.,  2.,\n",
       "         0.,  0.,  5.,  0.,  7.,  8.,  0., 10., 11.,  0., 12.,  0.,  0.,\n",
       "         9.,  0.,  0.,  6.,  0.,  4.,  3.,  0.,  1.,  0.]),\n",
       " array([0.00000000e+00, 7.28459563e-05, 2.91383825e-04, 6.95257448e-04,\n",
       "        1.16570503e-03, 1.77117810e-03, 2.78102979e-03, 4.03622887e-03,\n",
       "        4.66282014e-03, 5.60140889e-03, 7.08488212e-03, 9.04084742e-03,\n",
       "        1.11241192e-02, 1.56795920e-02, 1.61464431e-02, 1.69533836e-02,\n",
       "        1.86517898e-02, 1.98260567e-02, 2.24056356e-02, 2.73846516e-02,\n",
       "        2.83400377e-02, 3.04944152e-02, 3.61634463e-02, 3.84958114e-02,\n",
       "        4.44964767e-02, 6.25000000e-02, 6.27185379e-02, 6.33741515e-02,\n",
       "        6.45857723e-02, 6.59971151e-02, 6.78135343e-02, 7.08430894e-02,\n",
       "        7.46086866e-02, 7.64884604e-02, 7.93042267e-02, 8.37546464e-02,\n",
       "        8.96225423e-02, 9.58723575e-02, 1.09538776e-01, 1.10939329e-01,\n",
       "        1.13360151e-01, 1.18455369e-01, 1.21978170e-01, 1.29716907e-01,\n",
       "        1.44653955e-01, 1.47520113e-01, 1.53983246e-01, 1.70990339e-01,\n",
       "        1.77987434e-01, 1.95989430e-01, 2.50000000e-01, 2.50218538e-01,\n",
       "        2.50874151e-01, 2.52085772e-01, 2.53497115e-01, 2.55313534e-01,\n",
       "        2.58343089e-01, 2.62108687e-01, 2.63988460e-01, 2.66804227e-01,\n",
       "        2.71254646e-01, 2.77122542e-01, 2.83372357e-01, 2.97038776e-01,\n",
       "        2.98439329e-01, 3.00860151e-01, 3.05955369e-01, 3.09478170e-01,\n",
       "        3.17216907e-01, 3.32153955e-01, 3.35020113e-01, 3.41483246e-01,\n",
       "        3.58490339e-01, 3.65487434e-01, 3.83489430e-01, 4.37500000e-01,\n",
       "        4.38155614e-01, 4.40122454e-01, 4.43757317e-01, 4.47991345e-01,\n",
       "        4.53440603e-01, 4.62529268e-01, 4.73826060e-01, 4.79465381e-01,\n",
       "        4.87912680e-01, 5.01263939e-01, 5.18867627e-01, 5.37617072e-01,\n",
       "        5.78616328e-01, 5.82817988e-01, 5.90080452e-01, 6.05366108e-01,\n",
       "        6.15934510e-01, 6.39150720e-01, 6.83961864e-01, 6.92560339e-01,\n",
       "        7.11949737e-01, 7.62971016e-01, 7.83962303e-01, 8.37968290e-01,\n",
       "        0.00000000e+00]))"
      ]
     },
     "execution_count": 29,
     "metadata": {},
     "output_type": "execute_result"
    }
   ],
   "source": [
    "dp.value_iteration_for_gamblers(p_h=.25)"
   ]
  },
  {
   "cell_type": "markdown",
   "metadata": {
    "collapsed": true
   },
   "source": [
    "\n",
    "### Exercise 4.9 (programming)\n",
    "\n",
    "Implement value iteration for the gambler’s problem and solve it for p_h = 0.25 and p_h = 0.55.\n",
    "\n"
   ]
  },
  {
   "cell_type": "code",
   "execution_count": 74,
   "metadata": {},
   "outputs": [
    {
     "name": "stdout",
     "output_type": "stream",
     "text": [
      "Optimized Policy:\n",
      "[ 0.  1.  2.  3.  4.  1.  1.  1.  8.  1.  2.  3.  4.  1.  1.  1.  8.  1.\n",
      "  2.  3.  4.  1.  1.  1.  1. 25.  1.  2.  3.  4.  1.  1.  1.  8.  1.  2.\n",
      "  3.  4.  1.  1.  1.  8.  1.  2.  3.  4.  1.  1.  1.  1. 25.  1.  2.  3.\n",
      "  4.  1.  1.  1.  8.  1.  2.  3.  4.  1.  1.  1.  8.  1.  2.  3.  4.  1.\n",
      "  1.  1.  1. 25.  1.  2.  3.  4.  1.  1.  1.  8.  1.  2.  3.  4.  1.  1.\n",
      "  1.  8.  1.  2.  3.  4.  1.  1.  1.  1.  0.]\n",
      "\n",
      "Optimized Value Function:\n",
      "[0.         0.00999832 0.01999855 0.02999878 0.03999901 0.04999924\n",
      " 0.05999947 0.06999969 0.07999992 0.08999825 0.09999847 0.1099987\n",
      " 0.11999893 0.12999916 0.13999939 0.14999962 0.15999985 0.16999817\n",
      " 0.1799984  0.18999863 0.19999886 0.20999908 0.21999931 0.22999954\n",
      " 0.23999977 0.25       0.25999832 0.26999855 0.27999878 0.28999901\n",
      " 0.29999924 0.30999947 0.31999969 0.32999992 0.33999825 0.34999847\n",
      " 0.3599987  0.36999893 0.37999916 0.38999939 0.39999962 0.40999985\n",
      " 0.41999817 0.4299984  0.43999863 0.44999886 0.45999908 0.46999931\n",
      " 0.47999954 0.48999977 0.5        0.50999832 0.51999855 0.52999878\n",
      " 0.53999901 0.54999924 0.55999947 0.56999969 0.57999992 0.58999825\n",
      " 0.59999847 0.6099987  0.61999893 0.62999916 0.63999939 0.64999962\n",
      " 0.65999985 0.66999817 0.6799984  0.68999863 0.69999886 0.70999908\n",
      " 0.71999931 0.72999954 0.73999977 0.75       0.75999832 0.76999855\n",
      " 0.77999878 0.78999901 0.79999924 0.80999947 0.81999969 0.82999992\n",
      " 0.83999825 0.84999847 0.8599987  0.86999893 0.87999916 0.88999939\n",
      " 0.89999962 0.90999985 0.91999817 0.9299984  0.93999863 0.94999886\n",
      " 0.95999908 0.96999931 0.97999954 0.98999977 0.        ]\n",
      "\n"
     ]
    }
   ],
   "source": [
    "policy, v = dp.value_iteration_for_gamblers(0.5)\n",
    "\n",
    "print(\"Optimized Policy:\")\n",
    "print(policy)\n",
    "print(\"\")\n",
    "\n",
    "print(\"Optimized Value Function:\")\n",
    "print(v)\n",
    "print(\"\")"
   ]
  },
  {
   "cell_type": "code",
   "execution_count": 75,
   "metadata": {},
   "outputs": [
    {
     "data": {
      "text/plain": [
       "[<matplotlib.lines.Line2D at 0x7f5aced7d550>]"
      ]
     },
     "execution_count": 75,
     "metadata": {},
     "output_type": "execute_result"
    },
    {
     "data": {
      "image/png": "[encoded data removed]",
      "text/plain": [
       "<Figure size 432x288 with 1 Axes>"
      ]
     },
     "metadata": {
      "needs_background": "light"
     },
     "output_type": "display_data"
    }
   ],
   "source": [
    "# Plotting Capital vs Final Policy\n",
    "# x axis values\n",
    "x = range(101)\n",
    "# corresponding y axis values\n",
    "y = policy\n",
    "# plotting the bars\n",
    "plt.plot(x, y)\n",
    "\n"
   ]
  },
  {
   "cell_type": "code",
   "execution_count": 6,
   "metadata": {
    "collapsed": true
   },
   "outputs": [],
   "source": [
    "# Plotting Capital vs Final Policy\n",
    "\n",
    "# Implement!\n"
   ]
  }
 ],
 "metadata": {
  "kernelspec": {
   "display_name": "Python 3",
   "language": "python",
   "name": "python3"
  },
  "language_info": {
   "codemirror_mode": {
    "name": "ipython",
    "version": 3
   },
   "file_extension": ".py",
   "mimetype": "text/x-python",
   "name": "python",
   "nbconvert_exporter": "python",
   "pygments_lexer": "ipython3",
   "version": "3.5.2"
  }
 },
 "nbformat": 4,
 "nbformat_minor": 1
}
