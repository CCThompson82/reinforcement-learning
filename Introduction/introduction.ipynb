{
 "cells": [
  {
   "cell_type": "code",
   "execution_count": 14,
   "metadata": {},
   "outputs": [
    {
     "name": "stdout",
     "output_type": "stream",
     "text": [
      "\u001b[33mWARN: You are calling 'step()' even though this environment has already returned done = True. You should always call 'reset()' once you receive 'done = True' -- any further steps are undefined behavior.\u001b[0m\n"
     ]
    }
   ],
   "source": [
    "import gym\n",
    "env = gym.make('CartPole-v0')\n",
    "env.reset()\n",
    "for _ in range(1000):\n",
    "    env.render()\n",
    "    Q =env.step(env.action_space.sample()) # take a random act"
   ]
  },
  {
   "cell_type": "code",
   "execution_count": 5,
   "metadata": {},
   "outputs": [],
   "source": [
    "import gym"
   ]
  },
  {
   "cell_type": "code",
   "execution_count": null,
   "metadata": {},
   "outputs": [
    {
     "name": "stdout",
     "output_type": "stream",
     "text": [
      "Finish episode\n",
      "Finish episode\n",
      "Finish episode\n",
      "Finish episode\n",
      "Finish episode\n",
      "Finish episode\n",
      "Finish episode\n",
      "Finish episode\n",
      "Finish episode\n",
      "Finish episode\n",
      "Finish episode\n",
      "Finish episode\n",
      "Finish episode\n",
      "Finish episode\n",
      "Finish episode\n",
      "Finish episode\n",
      "Finish episode\n",
      "Finish episode\n",
      "Finish episode\n",
      "Finish episode\n",
      "Finish episode\n",
      "Finish episode\n",
      "Finish episode\n",
      "Finish episode\n",
      "Finish episode\n",
      "Finish episode\n",
      "Finish episode\n",
      "Finish episode\n",
      "Finish episode\n",
      "Finish episode\n",
      "Finish episode\n",
      "Finish episode\n",
      "Finish episode\n",
      "Finish episode\n",
      "Finish episode\n",
      "Finish episode\n",
      "Finish episode\n",
      "Finish episode\n",
      "Finish episode\n",
      "Finish episode\n",
      "Finish episode\n",
      "Finish episode\n",
      "Finish episode\n",
      "Finish episode\n",
      "Finish episode\n",
      "Finish episode\n",
      "Finish episode\n"
     ]
    }
   ],
   "source": [
    "environment = gym.make('CartPole-v0')\n",
    "for episode in range(100):\n",
    "    environment.reset()\n",
    "    done = False\n",
    "    while not done:\n",
    "        environment.render()\n",
    "        action = environment.action_space.sample()\n",
    "        observation, reward, done, info = environment.step(action)\n",
    "    print('Finish episode')"
   ]
  },
  {
   "cell_type": "code",
   "execution_count": null,
   "metadata": {},
   "outputs": [],
   "source": [
    "environment.action_space.sample()"
   ]
  },
  {
   "cell_type": "code",
   "execution_count": null,
   "metadata": {},
   "outputs": [],
   "source": [
    "environment.observation_space.high"
   ]
  },
  {
   "cell_type": "code",
   "execution_count": 11,
   "metadata": {},
   "outputs": [
    {
     "data": {
      "text/plain": [
       "True"
      ]
     },
     "execution_count": 11,
     "metadata": {},
     "output_type": "execute_result"
    }
   ],
   "source": [
    "import gym\n",
    "env = gym.make('SpaceInvaders-v0')\n",
    "env.reset()\n",
    "env.render()"
   ]
  },
  {
   "cell_type": "code",
   "execution_count": null,
   "metadata": {},
   "outputs": [],
   "source": []
  }
 ],
 "metadata": {
  "kernelspec": {
   "display_name": "Python 3",
   "language": "python",
   "name": "python3"
  },
  "language_info": {
   "codemirror_mode": {
    "name": "ipython",
    "version": 3
   },
   "file_extension": ".py",
   "mimetype": "text/x-python",
   "name": "python",
   "nbconvert_exporter": "python",
   "pygments_lexer": "ipython3",
   "version": "3.5.2"
  }
 },
 "nbformat": 4,
 "nbformat_minor": 1
}
